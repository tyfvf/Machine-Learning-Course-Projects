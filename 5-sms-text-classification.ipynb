{
 "cells": [
  {
   "attachments": {},
   "cell_type": "markdown",
   "metadata": {},
   "source": [
    "# Neural Network SMS Text Classifier\n",
    "\n",
    "In this project, the goal is to create a machine larning model that will classify SMS messages as either \"ham\" or \"spam\". A \"ham\" message is a normal message sent by a friend. A \"spam\" message is an advertisement or a message sent by a company.\n",
    "\n",
    "Now I will be using TensorFlow, because I don't have much experience on TorchText the PyTorch package for Natural Language processing\n",
    "\n",
    "This same solution on Colab [here](\"https://colab.research.google.com/drive/14tqM84g1w2LNFNFjRq4e8ddCuR2-Pcc_?usp=sharing\") and more informations [here](\"https://www.freecodecamp.org/learn/machine-learning-with-python/machine-learning-with-python-projects/neural-network-sms-text-classifier\").\n",
    "\n",
    "---"
   ]
  },
  {
   "cell_type": "code",
   "execution_count": 1,
   "metadata": {},
   "outputs": [
    {
     "name": "stderr",
     "output_type": "stream",
     "text": [
      "c:\\Users\\Lucas\\AppData\\Local\\Programs\\Python\\data-science\\lib\\site-packages\\tqdm\\auto.py:22: TqdmWarning: IProgress not found. Please update jupyter and ipywidgets. See https://ipywidgets.readthedocs.io/en/stable/user_install.html\n",
      "  from .autonotebook import tqdm as notebook_tqdm\n"
     ]
    }
   ],
   "source": [
    "# import libraries\n",
    "import tensorflow as tf\n",
    "import keras\n",
    "import pandas as pd\n",
    "import numpy as np\n",
    "import matplotlib.pyplot as plt\n",
    "import requests\n",
    "from pathlib import Path"
   ]
  },
  {
   "cell_type": "code",
   "execution_count": 2,
   "metadata": {},
   "outputs": [
    {
     "name": "stdout",
     "output_type": "stream",
     "text": [
      "data\\sms already exists, skipping download\n"
     ]
    }
   ],
   "source": [
    "# get data files\n",
    "data_path = Path(\"data\")\n",
    "sms_path = data_path / \"sms\"\n",
    "\n",
    "if sms_path.is_dir():\n",
    "    print(f\"{sms_path} already exists, skipping download\")\n",
    "else:\n",
    "    print(f\"Creating {sms_path}\")\n",
    "    sms_path.mkdir(parents=True, exist_ok=True)\n",
    "\n",
    "    with open(sms_path / 'train-data.tsv', 'wb') as f:\n",
    "        print(\"Downloading train data\")\n",
    "        request = requests.get(\"https://cdn.freecodecamp.org/project-data/sms/train-data.tsv\")\n",
    "        f.write(request.content)\n",
    "    \n",
    "    with open(sms_path / \"valid-data.tsv\", 'wb') as f:\n",
    "        print(f\"Downloading validation data\")\n",
    "        request = requests.get(\"https://cdn.freecodecamp.org/project-data/sms/valid-data.tsv\")\n",
    "        f.write(request.content)"
   ]
  },
  {
   "cell_type": "code",
   "execution_count": 3,
   "metadata": {},
   "outputs": [
    {
     "data": {
      "text/plain": [
       "(WindowsPath('data/sms/train-data.tsv'),\n",
       " WindowsPath('data/sms/valid-data.tsv'))"
      ]
     },
     "execution_count": 3,
     "metadata": {},
     "output_type": "execute_result"
    }
   ],
   "source": [
    "train_file_path = sms_path / \"train-data.tsv\"\n",
    "test_file_path = sms_path / \"valid-data.tsv\"\n",
    "\n",
    "train_file_path, test_file_path"
   ]
  },
  {
   "cell_type": "code",
   "execution_count": 12,
   "metadata": {},
   "outputs": [
    {
     "data": {
      "text/html": [
       "<div>\n",
       "<style scoped>\n",
       "    .dataframe tbody tr th:only-of-type {\n",
       "        vertical-align: middle;\n",
       "    }\n",
       "\n",
       "    .dataframe tbody tr th {\n",
       "        vertical-align: top;\n",
       "    }\n",
       "\n",
       "    .dataframe thead th {\n",
       "        text-align: right;\n",
       "    }\n",
       "</style>\n",
       "<table border=\"1\" class=\"dataframe\">\n",
       "  <thead>\n",
       "    <tr style=\"text-align: right;\">\n",
       "      <th></th>\n",
       "      <th>type</th>\n",
       "      <th>msg</th>\n",
       "    </tr>\n",
       "  </thead>\n",
       "  <tbody>\n",
       "    <tr>\n",
       "      <th>0</th>\n",
       "      <td>ham</td>\n",
       "      <td>ahhhh...just woken up!had a bad dream about u ...</td>\n",
       "    </tr>\n",
       "    <tr>\n",
       "      <th>1</th>\n",
       "      <td>ham</td>\n",
       "      <td>you can never do nothing</td>\n",
       "    </tr>\n",
       "    <tr>\n",
       "      <th>2</th>\n",
       "      <td>ham</td>\n",
       "      <td>now u sound like manky scouse boy steve,like! ...</td>\n",
       "    </tr>\n",
       "    <tr>\n",
       "      <th>3</th>\n",
       "      <td>ham</td>\n",
       "      <td>mum say we wan to go then go... then she can s...</td>\n",
       "    </tr>\n",
       "    <tr>\n",
       "      <th>4</th>\n",
       "      <td>ham</td>\n",
       "      <td>never y lei... i v lazy... got wat? dat day ü ...</td>\n",
       "    </tr>\n",
       "  </tbody>\n",
       "</table>\n",
       "</div>"
      ],
      "text/plain": [
       "  type                                                msg\n",
       "0  ham  ahhhh...just woken up!had a bad dream about u ...\n",
       "1  ham                           you can never do nothing\n",
       "2  ham  now u sound like manky scouse boy steve,like! ...\n",
       "3  ham  mum say we wan to go then go... then she can s...\n",
       "4  ham  never y lei... i v lazy... got wat? dat day ü ..."
      ]
     },
     "execution_count": 12,
     "metadata": {},
     "output_type": "execute_result"
    }
   ],
   "source": [
    "train_df = pd.read_csv(train_file_path, sep=\"\\t\", header=None, names=[\"type\", \"msg\"])\n",
    "train_df.dropna()\n",
    "train_df.head()"
   ]
  },
  {
   "cell_type": "code",
   "execution_count": 13,
   "metadata": {},
   "outputs": [
    {
     "data": {
      "text/html": [
       "<div>\n",
       "<style scoped>\n",
       "    .dataframe tbody tr th:only-of-type {\n",
       "        vertical-align: middle;\n",
       "    }\n",
       "\n",
       "    .dataframe tbody tr th {\n",
       "        vertical-align: top;\n",
       "    }\n",
       "\n",
       "    .dataframe thead th {\n",
       "        text-align: right;\n",
       "    }\n",
       "</style>\n",
       "<table border=\"1\" class=\"dataframe\">\n",
       "  <thead>\n",
       "    <tr style=\"text-align: right;\">\n",
       "      <th></th>\n",
       "      <th>type</th>\n",
       "      <th>msg</th>\n",
       "    </tr>\n",
       "  </thead>\n",
       "  <tbody>\n",
       "    <tr>\n",
       "      <th>0</th>\n",
       "      <td>ham</td>\n",
       "      <td>ahhhh...just woken up!had a bad dream about u ...</td>\n",
       "    </tr>\n",
       "    <tr>\n",
       "      <th>1</th>\n",
       "      <td>ham</td>\n",
       "      <td>you can never do nothing</td>\n",
       "    </tr>\n",
       "    <tr>\n",
       "      <th>2</th>\n",
       "      <td>ham</td>\n",
       "      <td>now u sound like manky scouse boy steve,like! ...</td>\n",
       "    </tr>\n",
       "    <tr>\n",
       "      <th>3</th>\n",
       "      <td>ham</td>\n",
       "      <td>mum say we wan to go then go... then she can s...</td>\n",
       "    </tr>\n",
       "    <tr>\n",
       "      <th>4</th>\n",
       "      <td>ham</td>\n",
       "      <td>never y lei... i v lazy... got wat? dat day ü ...</td>\n",
       "    </tr>\n",
       "  </tbody>\n",
       "</table>\n",
       "</div>"
      ],
      "text/plain": [
       "  type                                                msg\n",
       "0  ham  ahhhh...just woken up!had a bad dream about u ...\n",
       "1  ham                           you can never do nothing\n",
       "2  ham  now u sound like manky scouse boy steve,like! ...\n",
       "3  ham  mum say we wan to go then go... then she can s...\n",
       "4  ham  never y lei... i v lazy... got wat? dat day ü ..."
      ]
     },
     "execution_count": 13,
     "metadata": {},
     "output_type": "execute_result"
    }
   ],
   "source": [
    "test_df = pd.read_csv(test_file_path, sep=\"\\t\", header=None, names=[\"type\", \"msg\"])\n",
    "test_df.dropna()\n",
    "train_df.head()"
   ]
  },
  {
   "cell_type": "code",
   "execution_count": 14,
   "metadata": {},
   "outputs": [],
   "source": [
    "train_df[\"type\"] = pd.factorize(train_df[\"type\"])[0]\n",
    "test_df[\"type\"] = pd.factorize(test_df[\"type\"])[0]"
   ]
  },
  {
   "cell_type": "code",
   "execution_count": 15,
   "metadata": {},
   "outputs": [
    {
     "data": {
      "text/html": [
       "<div>\n",
       "<style scoped>\n",
       "    .dataframe tbody tr th:only-of-type {\n",
       "        vertical-align: middle;\n",
       "    }\n",
       "\n",
       "    .dataframe tbody tr th {\n",
       "        vertical-align: top;\n",
       "    }\n",
       "\n",
       "    .dataframe thead th {\n",
       "        text-align: right;\n",
       "    }\n",
       "</style>\n",
       "<table border=\"1\" class=\"dataframe\">\n",
       "  <thead>\n",
       "    <tr style=\"text-align: right;\">\n",
       "      <th></th>\n",
       "      <th>type</th>\n",
       "      <th>msg</th>\n",
       "    </tr>\n",
       "  </thead>\n",
       "  <tbody>\n",
       "    <tr>\n",
       "      <th>0</th>\n",
       "      <td>0</td>\n",
       "      <td>ahhhh...just woken up!had a bad dream about u ...</td>\n",
       "    </tr>\n",
       "    <tr>\n",
       "      <th>1</th>\n",
       "      <td>0</td>\n",
       "      <td>you can never do nothing</td>\n",
       "    </tr>\n",
       "    <tr>\n",
       "      <th>2</th>\n",
       "      <td>0</td>\n",
       "      <td>now u sound like manky scouse boy steve,like! ...</td>\n",
       "    </tr>\n",
       "    <tr>\n",
       "      <th>3</th>\n",
       "      <td>0</td>\n",
       "      <td>mum say we wan to go then go... then she can s...</td>\n",
       "    </tr>\n",
       "    <tr>\n",
       "      <th>4</th>\n",
       "      <td>0</td>\n",
       "      <td>never y lei... i v lazy... got wat? dat day ü ...</td>\n",
       "    </tr>\n",
       "    <tr>\n",
       "      <th>...</th>\n",
       "      <td>...</td>\n",
       "      <td>...</td>\n",
       "    </tr>\n",
       "    <tr>\n",
       "      <th>4174</th>\n",
       "      <td>0</td>\n",
       "      <td>just woke up. yeesh its late. but i didn't fal...</td>\n",
       "    </tr>\n",
       "    <tr>\n",
       "      <th>4175</th>\n",
       "      <td>0</td>\n",
       "      <td>what do u reckon as need 2 arrange transport i...</td>\n",
       "    </tr>\n",
       "    <tr>\n",
       "      <th>4176</th>\n",
       "      <td>1</td>\n",
       "      <td>free entry into our £250 weekly competition ju...</td>\n",
       "    </tr>\n",
       "    <tr>\n",
       "      <th>4177</th>\n",
       "      <td>1</td>\n",
       "      <td>-pls stop bootydelious (32/f) is inviting you ...</td>\n",
       "    </tr>\n",
       "    <tr>\n",
       "      <th>4178</th>\n",
       "      <td>0</td>\n",
       "      <td>tell my  bad character which u dnt lik in me. ...</td>\n",
       "    </tr>\n",
       "  </tbody>\n",
       "</table>\n",
       "<p>4179 rows × 2 columns</p>\n",
       "</div>"
      ],
      "text/plain": [
       "      type                                                msg\n",
       "0        0  ahhhh...just woken up!had a bad dream about u ...\n",
       "1        0                           you can never do nothing\n",
       "2        0  now u sound like manky scouse boy steve,like! ...\n",
       "3        0  mum say we wan to go then go... then she can s...\n",
       "4        0  never y lei... i v lazy... got wat? dat day ü ...\n",
       "...    ...                                                ...\n",
       "4174     0  just woke up. yeesh its late. but i didn't fal...\n",
       "4175     0  what do u reckon as need 2 arrange transport i...\n",
       "4176     1  free entry into our £250 weekly competition ju...\n",
       "4177     1  -pls stop bootydelious (32/f) is inviting you ...\n",
       "4178     0  tell my  bad character which u dnt lik in me. ...\n",
       "\n",
       "[4179 rows x 2 columns]"
      ]
     },
     "execution_count": 15,
     "metadata": {},
     "output_type": "execute_result"
    }
   ],
   "source": [
    "train_df"
   ]
  },
  {
   "cell_type": "code",
   "execution_count": 16,
   "metadata": {},
   "outputs": [
    {
     "data": {
      "text/html": [
       "<div>\n",
       "<style scoped>\n",
       "    .dataframe tbody tr th:only-of-type {\n",
       "        vertical-align: middle;\n",
       "    }\n",
       "\n",
       "    .dataframe tbody tr th {\n",
       "        vertical-align: top;\n",
       "    }\n",
       "\n",
       "    .dataframe thead th {\n",
       "        text-align: right;\n",
       "    }\n",
       "</style>\n",
       "<table border=\"1\" class=\"dataframe\">\n",
       "  <thead>\n",
       "    <tr style=\"text-align: right;\">\n",
       "      <th></th>\n",
       "      <th>type</th>\n",
       "      <th>msg</th>\n",
       "    </tr>\n",
       "  </thead>\n",
       "  <tbody>\n",
       "    <tr>\n",
       "      <th>0</th>\n",
       "      <td>0</td>\n",
       "      <td>i am in hospital da. . i will return home in e...</td>\n",
       "    </tr>\n",
       "    <tr>\n",
       "      <th>1</th>\n",
       "      <td>0</td>\n",
       "      <td>not much, just some textin'. how bout you?</td>\n",
       "    </tr>\n",
       "    <tr>\n",
       "      <th>2</th>\n",
       "      <td>0</td>\n",
       "      <td>i probably won't eat at all today. i think i'm...</td>\n",
       "    </tr>\n",
       "    <tr>\n",
       "      <th>3</th>\n",
       "      <td>0</td>\n",
       "      <td>don‘t give a flying monkeys wot they think and...</td>\n",
       "    </tr>\n",
       "    <tr>\n",
       "      <th>4</th>\n",
       "      <td>0</td>\n",
       "      <td>who are you seeing?</td>\n",
       "    </tr>\n",
       "    <tr>\n",
       "      <th>...</th>\n",
       "      <td>...</td>\n",
       "      <td>...</td>\n",
       "    </tr>\n",
       "    <tr>\n",
       "      <th>1387</th>\n",
       "      <td>0</td>\n",
       "      <td>true dear..i sat to pray evening and felt so.s...</td>\n",
       "    </tr>\n",
       "    <tr>\n",
       "      <th>1388</th>\n",
       "      <td>0</td>\n",
       "      <td>what will we do in the shower, baby?</td>\n",
       "    </tr>\n",
       "    <tr>\n",
       "      <th>1389</th>\n",
       "      <td>0</td>\n",
       "      <td>where are you ? what are you doing ? are yuou ...</td>\n",
       "    </tr>\n",
       "    <tr>\n",
       "      <th>1390</th>\n",
       "      <td>1</td>\n",
       "      <td>ur cash-balance is currently 500 pounds - to m...</td>\n",
       "    </tr>\n",
       "    <tr>\n",
       "      <th>1391</th>\n",
       "      <td>1</td>\n",
       "      <td>not heard from u4 a while. call 4 rude chat pr...</td>\n",
       "    </tr>\n",
       "  </tbody>\n",
       "</table>\n",
       "<p>1392 rows × 2 columns</p>\n",
       "</div>"
      ],
      "text/plain": [
       "      type                                                msg\n",
       "0        0  i am in hospital da. . i will return home in e...\n",
       "1        0         not much, just some textin'. how bout you?\n",
       "2        0  i probably won't eat at all today. i think i'm...\n",
       "3        0  don‘t give a flying monkeys wot they think and...\n",
       "4        0                                who are you seeing?\n",
       "...    ...                                                ...\n",
       "1387     0  true dear..i sat to pray evening and felt so.s...\n",
       "1388     0               what will we do in the shower, baby?\n",
       "1389     0  where are you ? what are you doing ? are yuou ...\n",
       "1390     1  ur cash-balance is currently 500 pounds - to m...\n",
       "1391     1  not heard from u4 a while. call 4 rude chat pr...\n",
       "\n",
       "[1392 rows x 2 columns]"
      ]
     },
     "execution_count": 16,
     "metadata": {},
     "output_type": "execute_result"
    }
   ],
   "source": [
    "test_df"
   ]
  },
  {
   "cell_type": "code",
   "execution_count": 78,
   "metadata": {},
   "outputs": [],
   "source": [
    "train_labels =  train_df[\"type\"].values\n",
    "train_ds = tf.data.Dataset.from_tensor_slices(\n",
    "    (train_df[\"msg\"].values, train_labels)\n",
    ")"
   ]
  },
  {
   "cell_type": "code",
   "execution_count": 79,
   "metadata": {},
   "outputs": [
    {
     "data": {
      "text/plain": [
       "(TensorSpec(shape=(), dtype=tf.string, name=None),\n",
       " TensorSpec(shape=(), dtype=tf.int64, name=None))"
      ]
     },
     "execution_count": 79,
     "metadata": {},
     "output_type": "execute_result"
    }
   ],
   "source": [
    "test_labels =  test_df[\"type\"].values\n",
    "test_ds = tf.data.Dataset.from_tensor_slices(\n",
    "    (test_df[\"msg\"].values, test_labels)\n",
    ")\n",
    "test_ds.element_spec"
   ]
  },
  {
   "cell_type": "code",
   "execution_count": 80,
   "metadata": {},
   "outputs": [],
   "source": [
    "BUFFER_SIZE = 100\n",
    "BATCH_SIZE = 32\n",
    "train_ds = train_ds.shuffle(BUFFER_SIZE).batch(BATCH_SIZE).prefetch(tf.data.AUTOTUNE)\n",
    "test_ds = test_ds.batch(BATCH_SIZE).prefetch(tf.data.AUTOTUNE)"
   ]
  },
  {
   "cell_type": "code",
   "execution_count": 83,
   "metadata": {},
   "outputs": [
    {
     "name": "stdout",
     "output_type": "stream",
     "text": [
      "WARNING:tensorflow:From c:\\Users\\Lucas\\AppData\\Local\\Programs\\Python\\data-science\\lib\\site-packages\\tensorflow\\python\\autograph\\pyct\\static_analysis\\liveness.py:83: Analyzer.lamba_check (from tensorflow.python.autograph.pyct.static_analysis.liveness) is deprecated and will be removed after 2023-09-23.\n",
      "Instructions for updating:\n",
      "Lambda fuctions will be no more assumed to be used in the statement where they are used, or at least in the same block. https://github.com/tensorflow/tensorflow/issues/56089\n"
     ]
    }
   ],
   "source": [
    "vec = keras.layers.TextVectorization(\n",
    "    output_mode='int',\n",
    "    max_tokens=1000,\n",
    "    output_sequence_length=1000,\n",
    ")\n",
    "\n",
    "vec.adapt(train_ds.map(lambda text, label: text))"
   ]
  },
  {
   "cell_type": "code",
   "execution_count": 84,
   "metadata": {},
   "outputs": [
    {
     "data": {
      "text/plain": [
       "array(['', '[UNK]', 'to', 'i', 'you', 'a', 'the', 'u', 'and', 'in', 'is',\n",
       "       'me', 'my', 'for', 'your', 'of', 'it', 'call', 'have', 'on'],\n",
       "      dtype='<U15')"
      ]
     },
     "execution_count": 84,
     "metadata": {},
     "output_type": "execute_result"
    }
   ],
   "source": [
    "vocab = np.array(vec.get_vocabulary())\n",
    "vocab[:20]"
   ]
  },
  {
   "cell_type": "code",
   "execution_count": 85,
   "metadata": {},
   "outputs": [],
   "source": [
    "model = tf.keras.Sequential([\n",
    "    vec,\n",
    "    tf.keras.layers.Embedding(\n",
    "        len(vec.get_vocabulary()),\n",
    "        64,\n",
    "        mask_zero=True,\n",
    "    ),\n",
    "    tf.keras.layers.Bidirectional(tf.keras.layers.LSTM(64,  return_sequences=True)),\n",
    "    tf.keras.layers.Bidirectional(tf.keras.layers.LSTM(32)),\n",
    "    tf.keras.layers.Dense(64, activation='relu'),\n",
    "    tf.keras.layers.Dropout(0.3),\n",
    "    tf.keras.layers.Dense(1)\n",
    "])\n",
    "\n",
    "\n",
    "model.compile(\n",
    "    loss=tf.keras.losses.BinaryCrossentropy(from_logits=True),\n",
    "    optimizer=tf.keras.optimizers.Adam(1e-4),\n",
    "    metrics=['accuracy'],\n",
    ")"
   ]
  },
  {
   "cell_type": "code",
   "execution_count": 86,
   "metadata": {},
   "outputs": [
    {
     "name": "stdout",
     "output_type": "stream",
     "text": [
      "Epoch 1/15\n",
      "131/131 [==============================] - 301s 2s/step - loss: 0.5793 - accuracy: 0.8660 - val_loss: 0.4545 - val_accuracy: 0.8604\n",
      "Epoch 2/15\n",
      "131/131 [==============================] - 264s 2s/step - loss: 0.3049 - accuracy: 0.8670 - val_loss: 0.1709 - val_accuracy: 0.8740\n",
      "Epoch 3/15\n",
      "131/131 [==============================] - 267s 2s/step - loss: 0.1208 - accuracy: 0.9660 - val_loss: 0.0886 - val_accuracy: 0.9760\n",
      "Epoch 4/15\n",
      "131/131 [==============================] - 266s 2s/step - loss: 0.0716 - accuracy: 0.9816 - val_loss: 0.0709 - val_accuracy: 0.9812\n",
      "Epoch 5/15\n",
      "131/131 [==============================] - 272s 2s/step - loss: 0.0574 - accuracy: 0.9859 - val_loss: 0.0633 - val_accuracy: 0.9854\n",
      "Epoch 6/15\n",
      "131/131 [==============================] - 271s 2s/step - loss: 0.0460 - accuracy: 0.9895 - val_loss: 0.0602 - val_accuracy: 0.9875\n",
      "Epoch 7/15\n",
      "131/131 [==============================] - 269s 2s/step - loss: 0.0352 - accuracy: 0.9923 - val_loss: 0.0661 - val_accuracy: 0.9865\n",
      "Epoch 8/15\n",
      "131/131 [==============================] - 271s 2s/step - loss: 0.0283 - accuracy: 0.9940 - val_loss: 0.0652 - val_accuracy: 0.9865\n",
      "Epoch 9/15\n",
      "131/131 [==============================] - 272s 2s/step - loss: 0.0221 - accuracy: 0.9959 - val_loss: 0.0707 - val_accuracy: 0.9844\n",
      "Epoch 10/15\n",
      "131/131 [==============================] - 273s 2s/step - loss: 0.0184 - accuracy: 0.9964 - val_loss: 0.0681 - val_accuracy: 0.9875\n",
      "Epoch 11/15\n",
      "131/131 [==============================] - 274s 2s/step - loss: 0.0132 - accuracy: 0.9974 - val_loss: 0.0682 - val_accuracy: 0.9885\n",
      "Epoch 12/15\n",
      "131/131 [==============================] - 274s 2s/step - loss: 0.0106 - accuracy: 0.9976 - val_loss: 0.0735 - val_accuracy: 0.9875\n",
      "Epoch 13/15\n",
      "131/131 [==============================] - 273s 2s/step - loss: 0.0082 - accuracy: 0.9983 - val_loss: 0.0845 - val_accuracy: 0.9854\n",
      "Epoch 14/15\n",
      "131/131 [==============================] - 276s 2s/step - loss: 0.0080 - accuracy: 0.9981 - val_loss: 0.0825 - val_accuracy: 0.9854\n",
      "Epoch 15/15\n",
      "131/131 [==============================] - 273s 2s/step - loss: 0.0070 - accuracy: 0.9983 - val_loss: 0.0945 - val_accuracy: 0.9844\n"
     ]
    }
   ],
   "source": [
    "history = model.fit(\n",
    "    train_ds,\n",
    "    validation_data=test_ds,\n",
    "    validation_steps=30,\n",
    "    epochs=15,\n",
    ")"
   ]
  },
  {
   "cell_type": "code",
   "execution_count": 87,
   "metadata": {},
   "outputs": [
    {
     "name": "stdout",
     "output_type": "stream",
     "text": [
      "1/1 [==============================] - 7s 7s/step\n",
      "[[2.2739158]]\n",
      "[2.2739158, 'spam']\n"
     ]
    }
   ],
   "source": [
    "# function to predict messages based on model\n",
    "# (should return list containing prediction and label, ex. [0.008318834938108921, 'ham'])\n",
    "def predict_message(pred_text):\n",
    "  ps = model.predict([pred_text])\n",
    "  print(ps)\n",
    "  p = ps[0][0]\n",
    "  return [p, \"ham\" if p <0.5 else \"spam\"]\n",
    "\n",
    "pred_text = \"sale today! to stop texts call 98912460 4\"\n",
    "\n",
    "prediction = predict_message(pred_text)\n",
    "print(prediction)"
   ]
  },
  {
   "cell_type": "code",
   "execution_count": 88,
   "metadata": {},
   "outputs": [
    {
     "name": "stdout",
     "output_type": "stream",
     "text": [
      "1/1 [==============================] - 0s 304ms/step\n",
      "[[-9.776394]]\n",
      "1/1 [==============================] - 0s 242ms/step\n",
      "[[2.2739158]]\n",
      "1/1 [==============================] - 0s 201ms/step\n",
      "[[-17.980015]]\n",
      "1/1 [==============================] - 0s 218ms/step\n",
      "[[5.8785124]]\n",
      "1/1 [==============================] - 0s 200ms/step\n",
      "[[6.204541]]\n",
      "1/1 [==============================] - 0s 184ms/step\n",
      "[[-14.803345]]\n",
      "1/1 [==============================] - 0s 181ms/step\n",
      "[[-17.708263]]\n",
      "You passed the challenge. Great job!\n"
     ]
    }
   ],
   "source": [
    "# Run this cell to test your function and model. Do not modify contents.\n",
    "def test_predictions():\n",
    "  test_messages = [\"how are you doing today\",\n",
    "                   \"sale today! to stop texts call 9891246032 4\",\n",
    "                   \"i dont want to go. can we try it a different day? available sat\",\n",
    "                   \"our new mobile video service is live. just install on your phone to start watching.\",\n",
    "                   \"you have won £1000 cash! call to claim your prize.\",\n",
    "                   \"i'll bring it tomorrow. don't forget the milk.\",\n",
    "                   \"wow, is your arm alright. that happened to me one time too\"\n",
    "                  ]\n",
    "\n",
    "  test_answers = [\"ham\", \"spam\", \"ham\", \"spam\", \"spam\", \"ham\", \"ham\"]\n",
    "  passed = True\n",
    "\n",
    "  for msg, ans in zip(test_messages, test_answers):\n",
    "    prediction = predict_message(msg)\n",
    "    if prediction[1] != ans:\n",
    "      passed = False\n",
    "\n",
    "  if passed:\n",
    "    print(\"You passed the challenge. Great job!\")\n",
    "  else:\n",
    "    print(\"You haven't passed yet. Keep trying.\")\n",
    "\n",
    "test_predictions()"
   ]
  },
  {
   "attachments": {},
   "cell_type": "markdown",
   "metadata": {},
   "source": [
    "**SUCCESS!!**\n",
    "\n",
    "The model guessed correctly all texts!\n",
    "\n",
    "This is the last course project on the FCC Machine Learning with Python.\n",
    "\n",
    "***Thanks for everyone who read this far :)***"
   ]
  }
 ],
 "metadata": {
  "kernelspec": {
   "display_name": "data-science",
   "language": "python",
   "name": "python3"
  },
  "language_info": {
   "codemirror_mode": {
    "name": "ipython",
    "version": 3
   },
   "file_extension": ".py",
   "mimetype": "text/x-python",
   "name": "python",
   "nbconvert_exporter": "python",
   "pygments_lexer": "ipython3",
   "version": "3.10.2"
  },
  "orig_nbformat": 4,
  "vscode": {
   "interpreter": {
    "hash": "6bc85e6d2320deaee829277c07323b4b308c3253e3c3ce192b2152caa61b11b2"
   }
  }
 },
 "nbformat": 4,
 "nbformat_minor": 2
}
